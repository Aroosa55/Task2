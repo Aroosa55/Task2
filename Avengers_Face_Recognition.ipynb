{
  "cells": [
    {
      "cell_type": "markdown",
      "metadata": {
        "id": "view-in-github",
        "colab_type": "text"
      },
      "source": [
        "<a href=\"https://colab.research.google.com/github/aroosaAj/Task2/blob/main/Avengers_Face_Recognition.ipynb\" target=\"_parent\"><img src=\"https://colab.research.google.com/assets/colab-badge.svg\" alt=\"Open In Colab\"/></a>"
      ]
    },
    {
      "cell_type": "code",
      "source": [
        "!pip install keras"
      ],
      "metadata": {
        "colab": {
          "base_uri": "https://localhost:8080/"
        },
        "id": "bp1xr8vF4Kj5",
        "outputId": "c65c319e-ff6b-4cf9-a26f-c29f5bdcc8bb"
      },
      "execution_count": null,
      "outputs": [
        {
          "output_type": "stream",
          "name": "stdout",
          "text": [
            "Looking in indexes: https://pypi.org/simple, https://us-python.pkg.dev/colab-wheels/public/simple/\n",
            "Requirement already satisfied: keras in /usr/local/lib/python3.8/dist-packages (2.9.0)\n"
          ]
        }
      ]
    },
    {
      "cell_type": "code",
      "execution_count": null,
      "metadata": {
        "colab": {
          "base_uri": "https://localhost:8080/"
        },
        "id": "bmom-Q_be6-S",
        "outputId": "a86c2d9b-0f90-4c7f-962f-007a52496cc5"
      },
      "outputs": [
        {
          "name": "stdout",
          "output_type": "stream",
          "text": [
            "Looking in indexes: https://pypi.org/simple, https://us-python.pkg.dev/colab-wheels/public/simple/\n",
            "Requirement already satisfied: tensorflow in /usr/local/lib/python3.8/dist-packages (2.9.2)\n",
            "Requirement already satisfied: keras in /usr/local/lib/python3.8/dist-packages (2.9.0)\n",
            "Requirement already satisfied: numpy in /usr/local/lib/python3.8/dist-packages (1.21.6)\n",
            "Requirement already satisfied: matplotlib in /usr/local/lib/python3.8/dist-packages (3.2.2)\n",
            "Collecting mtcnn\n",
            "  Downloading mtcnn-0.1.1-py3-none-any.whl (2.3 MB)\n",
            "\u001b[2K     \u001b[90m━━━━━━━━━━━━━━━━━━━━━━━━━━━━━━━━━━━━━━━━\u001b[0m \u001b[32m2.3/2.3 MB\u001b[0m \u001b[31m36.1 MB/s\u001b[0m eta \u001b[36m0:00:00\u001b[0m\n",
            "\u001b[?25hRequirement already satisfied: opt-einsum>=2.3.2 in /usr/local/lib/python3.8/dist-packages (from tensorflow) (3.3.0)\n",
            "Requirement already satisfied: absl-py>=1.0.0 in /usr/local/lib/python3.8/dist-packages (from tensorflow) (1.3.0)\n",
            "Requirement already satisfied: tensorflow-io-gcs-filesystem>=0.23.1 in /usr/local/lib/python3.8/dist-packages (from tensorflow) (0.29.0)\n",
            "Requirement already satisfied: tensorflow-estimator<2.10.0,>=2.9.0rc0 in /usr/local/lib/python3.8/dist-packages (from tensorflow) (2.9.0)\n",
            "Requirement already satisfied: typing-extensions>=3.6.6 in /usr/local/lib/python3.8/dist-packages (from tensorflow) (4.4.0)\n",
            "Requirement already satisfied: google-pasta>=0.1.1 in /usr/local/lib/python3.8/dist-packages (from tensorflow) (0.2.0)\n",
            "Requirement already satisfied: grpcio<2.0,>=1.24.3 in /usr/local/lib/python3.8/dist-packages (from tensorflow) (1.51.1)\n",
            "Requirement already satisfied: six>=1.12.0 in /usr/local/lib/python3.8/dist-packages (from tensorflow) (1.15.0)\n",
            "Requirement already satisfied: gast<=0.4.0,>=0.2.1 in /usr/local/lib/python3.8/dist-packages (from tensorflow) (0.4.0)\n",
            "Requirement already satisfied: libclang>=13.0.0 in /usr/local/lib/python3.8/dist-packages (from tensorflow) (14.0.6)\n",
            "Requirement already satisfied: keras-preprocessing>=1.1.1 in /usr/local/lib/python3.8/dist-packages (from tensorflow) (1.1.2)\n",
            "Requirement already satisfied: packaging in /usr/local/lib/python3.8/dist-packages (from tensorflow) (21.3)\n",
            "Requirement already satisfied: protobuf<3.20,>=3.9.2 in /usr/local/lib/python3.8/dist-packages (from tensorflow) (3.19.6)\n",
            "Requirement already satisfied: wrapt>=1.11.0 in /usr/local/lib/python3.8/dist-packages (from tensorflow) (1.14.1)\n",
            "Requirement already satisfied: tensorboard<2.10,>=2.9 in /usr/local/lib/python3.8/dist-packages (from tensorflow) (2.9.1)\n",
            "Requirement already satisfied: h5py>=2.9.0 in /usr/local/lib/python3.8/dist-packages (from tensorflow) (3.1.0)\n",
            "Requirement already satisfied: flatbuffers<2,>=1.12 in /usr/local/lib/python3.8/dist-packages (from tensorflow) (1.12)\n",
            "Requirement already satisfied: astunparse>=1.6.0 in /usr/local/lib/python3.8/dist-packages (from tensorflow) (1.6.3)\n",
            "Requirement already satisfied: setuptools in /usr/local/lib/python3.8/dist-packages (from tensorflow) (57.4.0)\n",
            "Requirement already satisfied: termcolor>=1.1.0 in /usr/local/lib/python3.8/dist-packages (from tensorflow) (2.2.0)\n",
            "Requirement already satisfied: kiwisolver>=1.0.1 in /usr/local/lib/python3.8/dist-packages (from matplotlib) (1.4.4)\n",
            "Requirement already satisfied: python-dateutil>=2.1 in /usr/local/lib/python3.8/dist-packages (from matplotlib) (2.8.2)\n",
            "Requirement already satisfied: cycler>=0.10 in /usr/local/lib/python3.8/dist-packages (from matplotlib) (0.11.0)\n",
            "Requirement already satisfied: pyparsing!=2.0.4,!=2.1.2,!=2.1.6,>=2.0.1 in /usr/local/lib/python3.8/dist-packages (from matplotlib) (3.0.9)\n",
            "Requirement already satisfied: opencv-python>=4.1.0 in /usr/local/lib/python3.8/dist-packages (from mtcnn) (4.6.0.66)\n",
            "Requirement already satisfied: wheel<1.0,>=0.23.0 in /usr/local/lib/python3.8/dist-packages (from astunparse>=1.6.0->tensorflow) (0.38.4)\n",
            "Requirement already satisfied: google-auth-oauthlib<0.5,>=0.4.1 in /usr/local/lib/python3.8/dist-packages (from tensorboard<2.10,>=2.9->tensorflow) (0.4.6)\n",
            "Requirement already satisfied: tensorboard-data-server<0.7.0,>=0.6.0 in /usr/local/lib/python3.8/dist-packages (from tensorboard<2.10,>=2.9->tensorflow) (0.6.1)\n",
            "Requirement already satisfied: markdown>=2.6.8 in /usr/local/lib/python3.8/dist-packages (from tensorboard<2.10,>=2.9->tensorflow) (3.4.1)\n",
            "Requirement already satisfied: requests<3,>=2.21.0 in /usr/local/lib/python3.8/dist-packages (from tensorboard<2.10,>=2.9->tensorflow) (2.25.1)\n",
            "Requirement already satisfied: google-auth<3,>=1.6.3 in /usr/local/lib/python3.8/dist-packages (from tensorboard<2.10,>=2.9->tensorflow) (2.15.0)\n",
            "Requirement already satisfied: tensorboard-plugin-wit>=1.6.0 in /usr/local/lib/python3.8/dist-packages (from tensorboard<2.10,>=2.9->tensorflow) (1.8.1)\n",
            "Requirement already satisfied: werkzeug>=1.0.1 in /usr/local/lib/python3.8/dist-packages (from tensorboard<2.10,>=2.9->tensorflow) (1.0.1)\n",
            "Requirement already satisfied: cachetools<6.0,>=2.0.0 in /usr/local/lib/python3.8/dist-packages (from google-auth<3,>=1.6.3->tensorboard<2.10,>=2.9->tensorflow) (5.2.0)\n",
            "Requirement already satisfied: pyasn1-modules>=0.2.1 in /usr/local/lib/python3.8/dist-packages (from google-auth<3,>=1.6.3->tensorboard<2.10,>=2.9->tensorflow) (0.2.8)\n",
            "Requirement already satisfied: rsa<5,>=3.1.4 in /usr/local/lib/python3.8/dist-packages (from google-auth<3,>=1.6.3->tensorboard<2.10,>=2.9->tensorflow) (4.9)\n",
            "Requirement already satisfied: requests-oauthlib>=0.7.0 in /usr/local/lib/python3.8/dist-packages (from google-auth-oauthlib<0.5,>=0.4.1->tensorboard<2.10,>=2.9->tensorflow) (1.3.1)\n",
            "Requirement already satisfied: importlib-metadata>=4.4 in /usr/local/lib/python3.8/dist-packages (from markdown>=2.6.8->tensorboard<2.10,>=2.9->tensorflow) (6.0.0)\n",
            "Requirement already satisfied: idna<3,>=2.5 in /usr/local/lib/python3.8/dist-packages (from requests<3,>=2.21.0->tensorboard<2.10,>=2.9->tensorflow) (2.10)\n",
            "Requirement already satisfied: urllib3<1.27,>=1.21.1 in /usr/local/lib/python3.8/dist-packages (from requests<3,>=2.21.0->tensorboard<2.10,>=2.9->tensorflow) (1.24.3)\n",
            "Requirement already satisfied: certifi>=2017.4.17 in /usr/local/lib/python3.8/dist-packages (from requests<3,>=2.21.0->tensorboard<2.10,>=2.9->tensorflow) (2022.12.7)\n",
            "Requirement already satisfied: chardet<5,>=3.0.2 in /usr/local/lib/python3.8/dist-packages (from requests<3,>=2.21.0->tensorboard<2.10,>=2.9->tensorflow) (4.0.0)\n",
            "Requirement already satisfied: zipp>=0.5 in /usr/local/lib/python3.8/dist-packages (from importlib-metadata>=4.4->markdown>=2.6.8->tensorboard<2.10,>=2.9->tensorflow) (3.11.0)\n",
            "Requirement already satisfied: pyasn1<0.5.0,>=0.4.6 in /usr/local/lib/python3.8/dist-packages (from pyasn1-modules>=0.2.1->google-auth<3,>=1.6.3->tensorboard<2.10,>=2.9->tensorflow) (0.4.8)\n",
            "Requirement already satisfied: oauthlib>=3.0.0 in /usr/local/lib/python3.8/dist-packages (from requests-oauthlib>=0.7.0->google-auth-oauthlib<0.5,>=0.4.1->tensorboard<2.10,>=2.9->tensorflow) (3.2.2)\n",
            "Installing collected packages: mtcnn\n",
            "Successfully installed mtcnn-0.1.1\n"
          ]
        }
      ],
      "source": [
        "# Install libraries\n",
        "!pip install tensorflow keras numpy matplotlib mtcnn"
      ]
    },
    {
      "cell_type": "code",
      "execution_count": null,
      "metadata": {
        "colab": {
          "base_uri": "https://localhost:8080/"
        },
        "id": "shN23QQYfJPz",
        "outputId": "cbfefa35-949f-4c94-bca6-3875b6d57d80"
      },
      "outputs": [
        {
          "name": "stdout",
          "output_type": "stream",
          "text": [
            "Looking in indexes: https://pypi.org/simple, https://us-python.pkg.dev/colab-wheels/public/simple/\n",
            "Requirement already satisfied: matplotlib-venn in /usr/local/lib/python3.8/dist-packages (0.11.7)\n",
            "Requirement already satisfied: scipy in /usr/local/lib/python3.8/dist-packages (from matplotlib-venn) (1.7.3)\n",
            "Requirement already satisfied: numpy in /usr/local/lib/python3.8/dist-packages (from matplotlib-venn) (1.21.6)\n",
            "Requirement already satisfied: matplotlib in /usr/local/lib/python3.8/dist-packages (from matplotlib-venn) (3.2.2)\n",
            "Requirement already satisfied: cycler>=0.10 in /usr/local/lib/python3.8/dist-packages (from matplotlib->matplotlib-venn) (0.11.0)\n",
            "Requirement already satisfied: kiwisolver>=1.0.1 in /usr/local/lib/python3.8/dist-packages (from matplotlib->matplotlib-venn) (1.4.4)\n",
            "Requirement already satisfied: pyparsing!=2.0.4,!=2.1.2,!=2.1.6,>=2.0.1 in /usr/local/lib/python3.8/dist-packages (from matplotlib->matplotlib-venn) (3.0.9)\n",
            "Requirement already satisfied: python-dateutil>=2.1 in /usr/local/lib/python3.8/dist-packages (from matplotlib->matplotlib-venn) (2.8.2)\n",
            "Requirement already satisfied: six>=1.5 in /usr/local/lib/python3.8/dist-packages (from python-dateutil>=2.1->matplotlib->matplotlib-venn) (1.15.0)\n"
          ]
        }
      ],
      "source": [
        "!pip install matplotlib-venn"
      ]
    },
    {
      "cell_type": "code",
      "execution_count": null,
      "metadata": {
        "colab": {
          "base_uri": "https://localhost:8080/"
        },
        "id": "hJCLBMa8fMSY",
        "outputId": "9cdc581d-374c-4b2b-e1e8-0a9c8f4f36d2"
      },
      "outputs": [
        {
          "output_type": "stream",
          "name": "stdout",
          "text": [
            "Mounted at /content/drive\n"
          ]
        }
      ],
      "source": [
        "from google.colab import drive\n",
        "drive.mount('/content/drive')"
      ]
    },
    {
      "cell_type": "code",
      "execution_count": null,
      "metadata": {
        "colab": {
          "base_uri": "https://localhost:8080/"
        },
        "id": "-aOlmttIhSfZ",
        "outputId": "f462dd42-4466-4a9d-f80d-c4de56b52ba9"
      },
      "outputs": [
        {
          "name": "stdout",
          "output_type": "stream",
          "text": [
            "Found 130 images belonging to 5 classes.\n",
            "Found 10 images belonging to 5 classes.\n"
          ]
        }
      ],
      "source": [
        "from keras.preprocessing.image import ImageDataGenerator\n",
        "\n",
        "# define data preparation\n",
        "train_datagen = ImageDataGenerator(rescale=1.0/255.0,\n",
        "                                   horizontal_flip=True,\n",
        "                                   vertical_flip=True,\n",
        "                                   validation_split=0.2)\n",
        "\n",
        "# prepare iterator\n",
        "train_it = train_datagen.flow_from_directory('/content/drive/MyDrive/Avengers/train',\n",
        "                                             class_mode='categorical',\n",
        "                                             batch_size=64,\n",
        "                                             target_size=(224, 224),\n",
        "                                             subset='training')\n",
        "val_it = train_datagen.flow_from_directory('/content/drive/MyDrive/Avengers/validation',\n",
        "                                           class_mode='categorical',\n",
        "                                           batch_size=64,\n",
        "                                           target_size=(224, 224),\n",
        "                                           subset='validation')\n"
      ]
    },
    {
      "cell_type": "code",
      "source": [
        "from keras.models import Sequential\n",
        "from keras.layers import Conv2D, MaxPooling2D, Flatten, Dense\n",
        "model = Sequential()\n",
        "model.add(Conv2D(32, (3, 3), activation='relu', input_shape=(150, 150, 3)))\n",
        "model.add(MaxPooling2D((2, 2)))\n",
        "model.add(Conv2D(64, (3, 3), activation='relu'))\n",
        "model.add(MaxPooling2D((2, 2)))\n",
        "model.add(Conv2D(128, (3, 3), activation='relu'))\n",
        "model.add(MaxPooling2D((2, 2)))\n",
        "model.add(Conv2D(128, (3, 3), activation='relu'))\n",
        "model.add(MaxPooling2D((2, 2)))\n",
        "model.add(Flatten())\n",
        "model.add(Dense(512, activation='relu'))\n",
        "model.compile(optimizer='adam', loss='categorical_crossentropy', metrics=['accuracy'])"
      ],
      "metadata": {
        "id": "hsyUJwrz2B_1"
      },
      "execution_count": null,
      "outputs": []
    },
    {
      "cell_type": "code",
      "source": [
        "model.summary()"
      ],
      "metadata": {
        "colab": {
          "base_uri": "https://localhost:8080/"
        },
        "id": "KtvXpOh6CA5o",
        "outputId": "cead37de-fb98-430d-cf31-8bb4875137c7"
      },
      "execution_count": null,
      "outputs": [
        {
          "output_type": "stream",
          "name": "stdout",
          "text": [
            "Model: \"sequential_4\"\n",
            "_________________________________________________________________\n",
            " Layer (type)                Output Shape              Param #   \n",
            "=================================================================\n",
            " conv2d_16 (Conv2D)          (None, 148, 148, 32)      896       \n",
            "                                                                 \n",
            " max_pooling2d_16 (MaxPoolin  (None, 74, 74, 32)       0         \n",
            " g2D)                                                            \n",
            "                                                                 \n",
            " conv2d_17 (Conv2D)          (None, 72, 72, 64)        18496     \n",
            "                                                                 \n",
            " max_pooling2d_17 (MaxPoolin  (None, 36, 36, 64)       0         \n",
            " g2D)                                                            \n",
            "                                                                 \n",
            " conv2d_18 (Conv2D)          (None, 34, 34, 128)       73856     \n",
            "                                                                 \n",
            " max_pooling2d_18 (MaxPoolin  (None, 17, 17, 128)      0         \n",
            " g2D)                                                            \n",
            "                                                                 \n",
            " conv2d_19 (Conv2D)          (None, 15, 15, 128)       147584    \n",
            "                                                                 \n",
            " max_pooling2d_19 (MaxPoolin  (None, 7, 7, 128)        0         \n",
            " g2D)                                                            \n",
            "                                                                 \n",
            " flatten_4 (Flatten)         (None, 6272)              0         \n",
            "                                                                 \n",
            " dense_4 (Dense)             (None, 512)               3211776   \n",
            "                                                                 \n",
            "=================================================================\n",
            "Total params: 3,452,608\n",
            "Trainable params: 3,452,608\n",
            "Non-trainable params: 0\n",
            "_________________________________________________________________\n"
          ]
        }
      ]
    },
    {
      "cell_type": "code",
      "execution_count": null,
      "metadata": {
        "colab": {
          "background_save": true,
          "base_uri": "https://localhost:8080/"
        },
        "id": "01JMxX3RiNsx",
        "outputId": "bc4a6898-4048-45bb-8026-54989eed94de"
      },
      "outputs": [
        {
          "name": "stderr",
          "output_type": "stream",
          "text": [
            "/usr/local/lib/python3.8/dist-packages/keras/optimizers/optimizer_v2/gradient_descent.py:108: UserWarning: The `lr` argument is deprecated, use `learning_rate` instead.\n",
            "  super(SGD, self).__init__(name, **kwargs)\n"
          ]
        },
        {
          "name": "stdout",
          "output_type": "stream",
          "text": [
            "Epoch 1/50\n",
            "3/3 [==============================] - 190s 52s/step - loss: 2.0757 - accuracy: 0.2385 - val_loss: 2.7364 - val_accuracy: 0.3000\n",
            "Epoch 2/50\n",
            "3/3 [==============================] - 171s 44s/step - loss: 2.5002 - accuracy: 0.2538 - val_loss: 1.7302 - val_accuracy: 0.2000\n",
            "Epoch 3/50\n",
            "3/3 [==============================] - 170s 44s/step - loss: 1.7711 - accuracy: 0.1769 - val_loss: 1.9265 - val_accuracy: 0.2000\n",
            "Epoch 4/50\n",
            "3/3 [==============================] - 171s 45s/step - loss: 1.8838 - accuracy: 0.2231 - val_loss: 1.6809 - val_accuracy: 0.2000\n",
            "Epoch 5/50\n",
            "3/3 [==============================] - 171s 44s/step - loss: 1.6451 - accuracy: 0.1846 - val_loss: 1.6822 - val_accuracy: 0.3000\n",
            "Epoch 6/50\n",
            "3/3 [==============================] - 170s 84s/step - loss: 1.7366 - accuracy: 0.2000 - val_loss: 1.6637 - val_accuracy: 0.2000\n",
            "Epoch 7/50\n",
            "3/3 [==============================] - 171s 44s/step - loss: 1.6188 - accuracy: 0.2385 - val_loss: 1.5939 - val_accuracy: 0.2000\n",
            "Epoch 8/50\n",
            "3/3 [==============================] - 176s 87s/step - loss: 1.6302 - accuracy: 0.2000 - val_loss: 1.6407 - val_accuracy: 0.2000\n",
            "Epoch 9/50\n",
            "3/3 [==============================] - 173s 45s/step - loss: 1.6374 - accuracy: 0.1846 - val_loss: 1.6442 - val_accuracy: 0.0000e+00\n",
            "Epoch 10/50\n",
            "3/3 [==============================] - 173s 45s/step - loss: 1.6205 - accuracy: 0.2154 - val_loss: 1.5464 - val_accuracy: 0.4000\n",
            "Epoch 11/50\n",
            "3/3 [==============================] - 178s 87s/step - loss: 1.5941 - accuracy: 0.2462 - val_loss: 1.5837 - val_accuracy: 0.3000\n",
            "Epoch 12/50\n",
            "3/3 [==============================] - 173s 45s/step - loss: 1.5935 - accuracy: 0.2462 - val_loss: 1.6037 - val_accuracy: 0.2000\n",
            "Epoch 13/50\n",
            "3/3 [==============================] - 173s 44s/step - loss: 1.6104 - accuracy: 0.2154 - val_loss: 1.5694 - val_accuracy: 0.3000\n",
            "Epoch 14/50\n",
            "3/3 [==============================] - 179s 88s/step - loss: 1.6022 - accuracy: 0.2538 - val_loss: 1.6987 - val_accuracy: 0.2000\n",
            "Epoch 15/50\n",
            "3/3 [==============================] - 176s 45s/step - loss: 1.6277 - accuracy: 0.2000 - val_loss: 1.5898 - val_accuracy: 0.3000\n",
            "Epoch 16/50\n",
            "3/3 [==============================] - 175s 45s/step - loss: 1.6394 - accuracy: 0.2462 - val_loss: 1.8353 - val_accuracy: 0.2000\n",
            "Epoch 17/50\n",
            "3/3 [==============================] - 176s 86s/step - loss: 1.6390 - accuracy: 0.2769 - val_loss: 1.5723 - val_accuracy: 0.4000\n",
            "Epoch 18/50\n",
            "3/3 [==============================] - 175s 86s/step - loss: 1.5660 - accuracy: 0.3000 - val_loss: 1.5804 - val_accuracy: 0.3000\n",
            "Epoch 19/50\n",
            "3/3 [==============================] - 175s 45s/step - loss: 1.5755 - accuracy: 0.3308 - val_loss: 1.5777 - val_accuracy: 0.4000\n",
            "Epoch 20/50\n",
            "3/3 [==============================] - 172s 45s/step - loss: 1.5280 - accuracy: 0.3077 - val_loss: 1.4389 - val_accuracy: 0.4000\n",
            "Epoch 21/50\n",
            "3/3 [==============================] - 175s 45s/step - loss: 1.5291 - accuracy: 0.2846 - val_loss: 1.4787 - val_accuracy: 0.3000\n",
            "Epoch 22/50\n",
            "3/3 [==============================] - 173s 44s/step - loss: 1.7051 - accuracy: 0.2231 - val_loss: 1.5853 - val_accuracy: 0.2000\n",
            "Epoch 23/50\n",
            "3/3 [==============================] - 172s 45s/step - loss: 1.4893 - accuracy: 0.3077 - val_loss: 1.5112 - val_accuracy: 0.2000\n",
            "Epoch 24/50\n",
            "3/3 [==============================] - 176s 46s/step - loss: 1.4889 - accuracy: 0.3154 - val_loss: 1.6976 - val_accuracy: 0.2000\n",
            "Epoch 25/50\n",
            "3/3 [==============================] - 171s 44s/step - loss: 1.5918 - accuracy: 0.2769 - val_loss: 1.9847 - val_accuracy: 0.3000\n",
            "Epoch 26/50\n",
            "3/3 [==============================] - 172s 45s/step - loss: 1.7673 - accuracy: 0.2308 - val_loss: 1.4827 - val_accuracy: 0.3000\n",
            "Epoch 27/50\n",
            "3/3 [==============================] - 174s 85s/step - loss: 1.5734 - accuracy: 0.2462 - val_loss: 1.5766 - val_accuracy: 0.2000\n",
            "Epoch 28/50\n",
            "3/3 [==============================] - 179s 88s/step - loss: 1.5976 - accuracy: 0.2462 - val_loss: 1.6326 - val_accuracy: 0.2000\n",
            "Epoch 29/50\n",
            "3/3 [==============================] - 174s 86s/step - loss: 1.6091 - accuracy: 0.2154 - val_loss: 1.6060 - val_accuracy: 0.2000\n",
            "Epoch 30/50\n",
            "3/3 [==============================] - 174s 45s/step - loss: 1.6093 - accuracy: 0.1615 - val_loss: 1.6166 - val_accuracy: 0.3000\n",
            "Epoch 31/50\n",
            "3/3 [==============================] - 179s 88s/step - loss: 1.6509 - accuracy: 0.1923 - val_loss: 1.6280 - val_accuracy: 0.1000\n",
            "Epoch 32/50\n",
            "3/3 [==============================] - 177s 46s/step - loss: 1.6281 - accuracy: 0.1846 - val_loss: 1.6128 - val_accuracy: 0.2000\n",
            "Epoch 33/50\n",
            "3/3 [==============================] - 176s 86s/step - loss: 1.6359 - accuracy: 0.2000 - val_loss: 1.6410 - val_accuracy: 0.2000\n",
            "Epoch 34/50\n",
            "3/3 [==============================] - 172s 84s/step - loss: 1.6115 - accuracy: 0.1923 - val_loss: 1.6092 - val_accuracy: 0.2000\n",
            "Epoch 35/50\n",
            "3/3 [==============================] - 175s 45s/step - loss: 1.6097 - accuracy: 0.2000 - val_loss: 1.6106 - val_accuracy: 0.2000\n",
            "Epoch 36/50\n",
            "3/3 [==============================] - 172s 45s/step - loss: 1.6118 - accuracy: 0.2000 - val_loss: 1.6108 - val_accuracy: 0.2000\n",
            "Epoch 37/50\n",
            "3/3 [==============================] - 173s 85s/step - loss: 1.6094 - accuracy: 0.2000 - val_loss: 1.6094 - val_accuracy: 0.2000\n",
            "Epoch 38/50\n",
            "3/3 [==============================] - 178s 46s/step - loss: 1.6097 - accuracy: 0.2000 - val_loss: 1.6095 - val_accuracy: 0.2000\n",
            "Epoch 39/50\n",
            "3/3 [==============================] - 180s 48s/step - loss: 1.6095 - accuracy: 0.2000 - val_loss: 1.6095 - val_accuracy: 0.2000\n",
            "Epoch 40/50\n",
            "3/3 [==============================] - 181s 47s/step - loss: 1.6095 - accuracy: 0.2000 - val_loss: 1.6095 - val_accuracy: 0.2000\n",
            "Epoch 41/50\n",
            "3/3 [==============================] - 178s 46s/step - loss: 1.6094 - accuracy: 0.2000 - val_loss: 1.6095 - val_accuracy: 0.2000\n",
            "Epoch 42/50\n",
            "3/3 [==============================] - 175s 86s/step - loss: 1.6094 - accuracy: 0.2000 - val_loss: 1.6087 - val_accuracy: 0.2000\n",
            "Epoch 43/50\n",
            "3/3 [==============================] - 176s 46s/step - loss: 1.6095 - accuracy: 0.2000 - val_loss: 1.6089 - val_accuracy: 0.2000\n",
            "Epoch 44/50\n",
            "3/3 [==============================] - 173s 45s/step - loss: 1.6089 - accuracy: 0.2000 - val_loss: 1.6068 - val_accuracy: 0.4000\n",
            "Epoch 45/50\n",
            "3/3 [==============================] - 174s 44s/step - loss: 1.6087 - accuracy: 0.2308 - val_loss: 1.6069 - val_accuracy: 0.4000\n",
            "Epoch 46/50\n",
            "3/3 [==============================] - 173s 85s/step - loss: 1.6087 - accuracy: 0.2077 - val_loss: 1.6058 - val_accuracy: 0.2000\n",
            "Epoch 47/50\n",
            "3/3 [==============================] - 172s 44s/step - loss: 1.6066 - accuracy: 0.2000 - val_loss: 1.6028 - val_accuracy: 0.2000\n",
            "Epoch 48/50\n",
            "3/3 [==============================] - 172s 45s/step - loss: 1.6076 - accuracy: 0.2000 - val_loss: 1.6024 - val_accuracy: 0.2000\n",
            "Epoch 49/50\n",
            "3/3 [==============================] - 176s 45s/step - loss: 1.6046 - accuracy: 0.2077 - val_loss: 1.6267 - val_accuracy: 0.3000\n",
            "Epoch 50/50\n",
            "3/3 [==============================] - 174s 45s/step - loss: 1.6114 - accuracy: 0.2231 - val_loss: 1.6260 - val_accuracy: 0.2000\n"
          ]
        }
      ],
      "source": [
        "from keras.optimizers import SGD\n",
        "from keras.applications import VGG16\n",
        "from keras.layers import Dense\n",
        "from keras.models import Model\n",
        "from keras.layers import Flatten\n",
        "\n",
        "\n",
        "# load model without classifier layers\n",
        "model = VGG16(include_top=False, input_shape=(224, 224, 3))\n",
        "num_classes = len(train_it.class_indices)\n",
        "\n",
        "# add new classifier layers\n",
        "flat1 = Flatten()(model.layers[-1].output)\n",
        "class1 = Dense(128, activation='relu', kernel_initializer='he_uniform')(flat1)\n",
        "output = Dense(num_classes, activation='softmax')(class1)\n",
        "\n",
        "# define new model\n",
        "model = Model(inputs=model.inputs, outputs=output)\n",
        "\n",
        "# compile model\n",
        "opt = SGD(lr=0.001, momentum=0.9)\n",
        "model.compile(optimizer=opt, loss='categorical_crossentropy', metrics=['accuracy'])\n",
        "\n",
        "# fit model\n",
        "history = model.fit(train_it, steps_per_epoch=len(train_it),\n",
        "                    validation_data=val_it, validation_steps=len(val_it), epochs=50)\n"
      ]
    },
    {
      "cell_type": "code",
      "execution_count": null,
      "metadata": {
        "id": "yDLSHtBRiUAB",
        "colab": {
          "base_uri": "https://localhost:8080/"
        },
        "outputId": "f43bb246-713a-4296-a339-015782f5f886"
      },
      "outputs": [
        {
          "output_type": "stream",
          "name": "stdout",
          "text": [
            "Found 55 images belonging to 5 classes.\n"
          ]
        }
      ],
      "source": [
        "from keras.preprocessing.image import ImageDataGenerator\n",
        "# load test images\n",
        "test_datagen = ImageDataGenerator(rescale=1.0/255.0,\n",
        "                                   horizontal_flip=True,\n",
        "                                   vertical_flip=True,\n",
        "                                   validation_split=0.2)\n",
        "test_it = test_datagen.flow_from_directory('/content/drive/MyDrive/Avengers/test',\n",
        "                                           class_mode='categorical',\n",
        "                                           batch_size=64,\n",
        "                                           target_size=(224, 224))\n"
      ]
    },
    {
      "cell_type": "code",
      "execution_count": null,
      "metadata": {
        "id": "a1H3TE9fik1B"
      },
      "outputs": [],
      "source": [
        "# save model\n",
        "model.save('avengers_face_recognition.h5')"
      ]
    }
  ],
  "metadata": {
    "colab": {
      "provenance": [],
      "authorship_tag": "ABX9TyNwqWMRYONfjrl5tVl6sAD6",
      "include_colab_link": true
    },
    "kernelspec": {
      "display_name": "Python 3",
      "name": "python3"
    },
    "language_info": {
      "name": "python"
    }
  },
  "nbformat": 4,
  "nbformat_minor": 0
}